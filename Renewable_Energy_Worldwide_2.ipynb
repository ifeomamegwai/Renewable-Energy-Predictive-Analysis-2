{
  "nbformat": 4,
  "nbformat_minor": 0,
  "metadata": {
    "colab": {
      "provenance": [],
      "authorship_tag": "ABX9TyNi0w4owv5FpSCEY6LpmGZJ",
      "include_colab_link": true
    },
    "kernelspec": {
      "name": "python3",
      "display_name": "Python 3"
    },
    "language_info": {
      "name": "python"
    }
  },
  "cells": [
    {
      "cell_type": "markdown",
      "metadata": {
        "id": "view-in-github",
        "colab_type": "text"
      },
      "source": [
        "<a href=\"https://colab.research.google.com/github/ifeomamegwai/Renewable-Energy-Predictive-Analysis-2/blob/main/Renewable_Energy_Worldwide_2.ipynb\" target=\"_parent\"><img src=\"https://colab.research.google.com/assets/colab-badge.svg\" alt=\"Open In Colab\"/></a>"
      ]
    },
    {
      "cell_type": "markdown",
      "source": [
        "1.2 Regression Analysis:\n",
        "\n",
        "An analysis to predicts how changes in entities renewable energy capacity (hydro, wind, solar, geothermal) affect the reduction in fossil fuel usage, aiming to quantify the relationship between renewable energy growth and decreased fossil fuel reliance.\n",
        "\n"
      ],
      "metadata": {
        "id": "rnQelBZWTK1g"
      }
    },
    {
      "cell_type": "markdown",
      "source": [
        "Four distinct models Linear Regression, Random Forest, Gradient Boosting and XGBoost were employed in the effort to get the best model fit for the analysis\n"
      ],
      "metadata": {
        "id": "S1R84_SvvEqQ"
      }
    },
    {
      "cell_type": "markdown",
      "source": [
        "IMPORT THE LIBRARIES AND DATA"
      ],
      "metadata": {
        "id": "UFulTVzJmZmm"
      }
    },
    {
      "cell_type": "code",
      "execution_count": 37,
      "metadata": {
        "id": "WbSKHl7WXevB"
      },
      "outputs": [],
      "source": [
        "import pandas as pd\n",
        "from sklearn.model_selection import train_test_split\n",
        "from sklearn.preprocessing import StandardScaler\n",
        "from sklearn.linear_model import LinearRegression\n",
        "from sklearn.metrics import mean_squared_error, r2_score, mean_absolute_error\n",
        "from sklearn.ensemble import RandomForestRegressor, GradientBoostingRegressor\n",
        "import matplotlib.pyplot as plt\n",
        "import numpy as np\n",
        "import seaborn as sns\n",
        "from sklearn.model_selection import cross_val_score\n",
        "from sklearn.ensemble import RandomForestRegressor\n",
        "from sklearn.preprocessing import OneHotEncoder\n",
        "import xgboost as xgb\n",
        "from xgboost import XGBRegressor"
      ]
    },
    {
      "cell_type": "code",
      "source": [
        "project_id = \"renewableenergy-434508\"\n",
        "dataset = \"RWE\"\n",
        "table = \"global_hydro_wind_solar_geothermal_view\"\n",
        "query = f\"SELECT * FROM `{project_id}.{dataset}.{table}`\"\n",
        "\n",
        "df = pd.read_gbq(query, project_id=project_id)\n"
      ],
      "metadata": {
        "id": "Nn3Kk6v6Xvqr"
      },
      "execution_count": 38,
      "outputs": []
    },
    {
      "cell_type": "code",
      "source": [
        "df.shape"
      ],
      "metadata": {
        "colab": {
          "base_uri": "https://localhost:8080/"
        },
        "id": "k-A7BWPN-Hwq",
        "outputId": "9add76c8-5838-4807-885a-08148a5e8efb",
        "collapsed": true
      },
      "execution_count": 39,
      "outputs": [
        {
          "output_type": "execute_result",
          "data": {
            "text/plain": [
              "(1743, 7)"
            ]
          },
          "metadata": {},
          "execution_count": 39
        }
      ]
    },
    {
      "cell_type": "code",
      "source": [
        "df.isnull().sum()"
      ],
      "metadata": {
        "colab": {
          "base_uri": "https://localhost:8080/",
          "height": 303
        },
        "collapsed": true,
        "id": "Vd51rDzzYLX3",
        "outputId": "8f7137c3-aa2f-48fb-c135-60389bd51d61"
      },
      "execution_count": 40,
      "outputs": [
        {
          "output_type": "execute_result",
          "data": {
            "text/plain": [
              "entity                                  0\n",
              "year                                    0\n",
              "electricity_from_fossil_fuels_TWh       0\n",
              "hydro_equ_primary_energy              231\n",
              "wind_capacity                         882\n",
              "solar_capacity                        840\n",
              "geothermal_capacity                  1260\n",
              "dtype: int64"
            ],
            "text/html": [
              "<div>\n",
              "<style scoped>\n",
              "    .dataframe tbody tr th:only-of-type {\n",
              "        vertical-align: middle;\n",
              "    }\n",
              "\n",
              "    .dataframe tbody tr th {\n",
              "        vertical-align: top;\n",
              "    }\n",
              "\n",
              "    .dataframe thead th {\n",
              "        text-align: right;\n",
              "    }\n",
              "</style>\n",
              "<table border=\"1\" class=\"dataframe\">\n",
              "  <thead>\n",
              "    <tr style=\"text-align: right;\">\n",
              "      <th></th>\n",
              "      <th>0</th>\n",
              "    </tr>\n",
              "  </thead>\n",
              "  <tbody>\n",
              "    <tr>\n",
              "      <th>entity</th>\n",
              "      <td>0</td>\n",
              "    </tr>\n",
              "    <tr>\n",
              "      <th>year</th>\n",
              "      <td>0</td>\n",
              "    </tr>\n",
              "    <tr>\n",
              "      <th>electricity_from_fossil_fuels_TWh</th>\n",
              "      <td>0</td>\n",
              "    </tr>\n",
              "    <tr>\n",
              "      <th>hydro_equ_primary_energy</th>\n",
              "      <td>231</td>\n",
              "    </tr>\n",
              "    <tr>\n",
              "      <th>wind_capacity</th>\n",
              "      <td>882</td>\n",
              "    </tr>\n",
              "    <tr>\n",
              "      <th>solar_capacity</th>\n",
              "      <td>840</td>\n",
              "    </tr>\n",
              "    <tr>\n",
              "      <th>geothermal_capacity</th>\n",
              "      <td>1260</td>\n",
              "    </tr>\n",
              "  </tbody>\n",
              "</table>\n",
              "</div><br><label><b>dtype:</b> int64</label>"
            ]
          },
          "metadata": {},
          "execution_count": 40
        }
      ]
    },
    {
      "cell_type": "markdown",
      "source": [
        "**PREPROCESSING**"
      ],
      "metadata": {
        "id": "ktejqBIWrAVI"
      }
    },
    {
      "cell_type": "markdown",
      "source": [
        "**obtain the minimum value for each column**"
      ],
      "metadata": {
        "id": "6r8BF1BKrIjD"
      }
    },
    {
      "cell_type": "code",
      "source": [
        "df[df['electricity_from_fossil_fuels_TWh']!=0].min()"
      ],
      "metadata": {
        "colab": {
          "base_uri": "https://localhost:8080/",
          "height": 303
        },
        "id": "cUIDZAk8Nxc3",
        "outputId": "2884ccf6-154b-4d69-9f08-98af3bf5237b",
        "collapsed": true
      },
      "execution_count": 41,
      "outputs": [
        {
          "output_type": "execute_result",
          "data": {
            "text/plain": [
              "entity                               Algeria\n",
              "year                                    2000\n",
              "electricity_from_fossil_fuels_TWh       0.01\n",
              "hydro_equ_primary_energy                 0.0\n",
              "wind_capacity                            0.0\n",
              "solar_capacity                           0.0\n",
              "geothermal_capacity                      0.0\n",
              "dtype: object"
            ],
            "text/html": [
              "<div>\n",
              "<style scoped>\n",
              "    .dataframe tbody tr th:only-of-type {\n",
              "        vertical-align: middle;\n",
              "    }\n",
              "\n",
              "    .dataframe tbody tr th {\n",
              "        vertical-align: top;\n",
              "    }\n",
              "\n",
              "    .dataframe thead th {\n",
              "        text-align: right;\n",
              "    }\n",
              "</style>\n",
              "<table border=\"1\" class=\"dataframe\">\n",
              "  <thead>\n",
              "    <tr style=\"text-align: right;\">\n",
              "      <th></th>\n",
              "      <th>0</th>\n",
              "    </tr>\n",
              "  </thead>\n",
              "  <tbody>\n",
              "    <tr>\n",
              "      <th>entity</th>\n",
              "      <td>Algeria</td>\n",
              "    </tr>\n",
              "    <tr>\n",
              "      <th>year</th>\n",
              "      <td>2000</td>\n",
              "    </tr>\n",
              "    <tr>\n",
              "      <th>electricity_from_fossil_fuels_TWh</th>\n",
              "      <td>0.01</td>\n",
              "    </tr>\n",
              "    <tr>\n",
              "      <th>hydro_equ_primary_energy</th>\n",
              "      <td>0.0</td>\n",
              "    </tr>\n",
              "    <tr>\n",
              "      <th>wind_capacity</th>\n",
              "      <td>0.0</td>\n",
              "    </tr>\n",
              "    <tr>\n",
              "      <th>solar_capacity</th>\n",
              "      <td>0.0</td>\n",
              "    </tr>\n",
              "    <tr>\n",
              "      <th>geothermal_capacity</th>\n",
              "      <td>0.0</td>\n",
              "    </tr>\n",
              "  </tbody>\n",
              "</table>\n",
              "</div><br><label><b>dtype:</b> object</label>"
            ]
          },
          "metadata": {},
          "execution_count": 41
        }
      ]
    },
    {
      "cell_type": "code",
      "source": [
        "df[df['hydro_equ_primary_energy']!=0].min()"
      ],
      "metadata": {
        "colab": {
          "base_uri": "https://localhost:8080/",
          "height": 303
        },
        "id": "NPNvrU_XNxWy",
        "outputId": "02157a27-0ef5-45d0-c2b8-6c216a361ac4",
        "collapsed": true
      },
      "execution_count": 42,
      "outputs": [
        {
          "output_type": "execute_result",
          "data": {
            "text/plain": [
              "entity                               Algeria\n",
              "year                                    2000\n",
              "electricity_from_fossil_fuels_TWh        0.0\n",
              "hydro_equ_primary_energy                0.01\n",
              "wind_capacity                            0.0\n",
              "solar_capacity                           0.0\n",
              "geothermal_capacity                      0.0\n",
              "dtype: object"
            ],
            "text/html": [
              "<div>\n",
              "<style scoped>\n",
              "    .dataframe tbody tr th:only-of-type {\n",
              "        vertical-align: middle;\n",
              "    }\n",
              "\n",
              "    .dataframe tbody tr th {\n",
              "        vertical-align: top;\n",
              "    }\n",
              "\n",
              "    .dataframe thead th {\n",
              "        text-align: right;\n",
              "    }\n",
              "</style>\n",
              "<table border=\"1\" class=\"dataframe\">\n",
              "  <thead>\n",
              "    <tr style=\"text-align: right;\">\n",
              "      <th></th>\n",
              "      <th>0</th>\n",
              "    </tr>\n",
              "  </thead>\n",
              "  <tbody>\n",
              "    <tr>\n",
              "      <th>entity</th>\n",
              "      <td>Algeria</td>\n",
              "    </tr>\n",
              "    <tr>\n",
              "      <th>year</th>\n",
              "      <td>2000</td>\n",
              "    </tr>\n",
              "    <tr>\n",
              "      <th>electricity_from_fossil_fuels_TWh</th>\n",
              "      <td>0.0</td>\n",
              "    </tr>\n",
              "    <tr>\n",
              "      <th>hydro_equ_primary_energy</th>\n",
              "      <td>0.01</td>\n",
              "    </tr>\n",
              "    <tr>\n",
              "      <th>wind_capacity</th>\n",
              "      <td>0.0</td>\n",
              "    </tr>\n",
              "    <tr>\n",
              "      <th>solar_capacity</th>\n",
              "      <td>0.0</td>\n",
              "    </tr>\n",
              "    <tr>\n",
              "      <th>geothermal_capacity</th>\n",
              "      <td>0.0</td>\n",
              "    </tr>\n",
              "  </tbody>\n",
              "</table>\n",
              "</div><br><label><b>dtype:</b> object</label>"
            ]
          },
          "metadata": {},
          "execution_count": 42
        }
      ]
    },
    {
      "cell_type": "code",
      "source": [
        "df[df['solar_capacity']!=0].min()"
      ],
      "metadata": {
        "colab": {
          "base_uri": "https://localhost:8080/",
          "height": 303
        },
        "id": "vS1guN6xNw3u",
        "outputId": "4519bd06-a9d0-45ce-deaf-077743d8c343",
        "collapsed": true
      },
      "execution_count": 43,
      "outputs": [
        {
          "output_type": "execute_result",
          "data": {
            "text/plain": [
              "entity                                Algeria\n",
              "year                                     2000\n",
              "electricity_from_fossil_fuels_TWh         0.0\n",
              "hydro_equ_primary_energy                  0.0\n",
              "wind_capacity                             0.0\n",
              "solar_capacity                       0.000015\n",
              "geothermal_capacity                       0.0\n",
              "dtype: object"
            ],
            "text/html": [
              "<div>\n",
              "<style scoped>\n",
              "    .dataframe tbody tr th:only-of-type {\n",
              "        vertical-align: middle;\n",
              "    }\n",
              "\n",
              "    .dataframe tbody tr th {\n",
              "        vertical-align: top;\n",
              "    }\n",
              "\n",
              "    .dataframe thead th {\n",
              "        text-align: right;\n",
              "    }\n",
              "</style>\n",
              "<table border=\"1\" class=\"dataframe\">\n",
              "  <thead>\n",
              "    <tr style=\"text-align: right;\">\n",
              "      <th></th>\n",
              "      <th>0</th>\n",
              "    </tr>\n",
              "  </thead>\n",
              "  <tbody>\n",
              "    <tr>\n",
              "      <th>entity</th>\n",
              "      <td>Algeria</td>\n",
              "    </tr>\n",
              "    <tr>\n",
              "      <th>year</th>\n",
              "      <td>2000</td>\n",
              "    </tr>\n",
              "    <tr>\n",
              "      <th>electricity_from_fossil_fuels_TWh</th>\n",
              "      <td>0.0</td>\n",
              "    </tr>\n",
              "    <tr>\n",
              "      <th>hydro_equ_primary_energy</th>\n",
              "      <td>0.0</td>\n",
              "    </tr>\n",
              "    <tr>\n",
              "      <th>wind_capacity</th>\n",
              "      <td>0.0</td>\n",
              "    </tr>\n",
              "    <tr>\n",
              "      <th>solar_capacity</th>\n",
              "      <td>0.000015</td>\n",
              "    </tr>\n",
              "    <tr>\n",
              "      <th>geothermal_capacity</th>\n",
              "      <td>0.0</td>\n",
              "    </tr>\n",
              "  </tbody>\n",
              "</table>\n",
              "</div><br><label><b>dtype:</b> object</label>"
            ]
          },
          "metadata": {},
          "execution_count": 43
        }
      ]
    },
    {
      "cell_type": "code",
      "source": [
        "df[df['geothermal_capacity']!=0].min()"
      ],
      "metadata": {
        "colab": {
          "base_uri": "https://localhost:8080/",
          "height": 303
        },
        "id": "zZZFRSG_OZp3",
        "outputId": "7af287df-3790-440f-ec9a-67a6604da250",
        "collapsed": true
      },
      "execution_count": 44,
      "outputs": [
        {
          "output_type": "execute_result",
          "data": {
            "text/plain": [
              "entity                               Algeria\n",
              "year                                    2000\n",
              "electricity_from_fossil_fuels_TWh        0.0\n",
              "hydro_equ_primary_energy                 0.0\n",
              "wind_capacity                            0.0\n",
              "solar_capacity                           0.0\n",
              "geothermal_capacity                      0.2\n",
              "dtype: object"
            ],
            "text/html": [
              "<div>\n",
              "<style scoped>\n",
              "    .dataframe tbody tr th:only-of-type {\n",
              "        vertical-align: middle;\n",
              "    }\n",
              "\n",
              "    .dataframe tbody tr th {\n",
              "        vertical-align: top;\n",
              "    }\n",
              "\n",
              "    .dataframe thead th {\n",
              "        text-align: right;\n",
              "    }\n",
              "</style>\n",
              "<table border=\"1\" class=\"dataframe\">\n",
              "  <thead>\n",
              "    <tr style=\"text-align: right;\">\n",
              "      <th></th>\n",
              "      <th>0</th>\n",
              "    </tr>\n",
              "  </thead>\n",
              "  <tbody>\n",
              "    <tr>\n",
              "      <th>entity</th>\n",
              "      <td>Algeria</td>\n",
              "    </tr>\n",
              "    <tr>\n",
              "      <th>year</th>\n",
              "      <td>2000</td>\n",
              "    </tr>\n",
              "    <tr>\n",
              "      <th>electricity_from_fossil_fuels_TWh</th>\n",
              "      <td>0.0</td>\n",
              "    </tr>\n",
              "    <tr>\n",
              "      <th>hydro_equ_primary_energy</th>\n",
              "      <td>0.0</td>\n",
              "    </tr>\n",
              "    <tr>\n",
              "      <th>wind_capacity</th>\n",
              "      <td>0.0</td>\n",
              "    </tr>\n",
              "    <tr>\n",
              "      <th>solar_capacity</th>\n",
              "      <td>0.0</td>\n",
              "    </tr>\n",
              "    <tr>\n",
              "      <th>geothermal_capacity</th>\n",
              "      <td>0.2</td>\n",
              "    </tr>\n",
              "  </tbody>\n",
              "</table>\n",
              "</div><br><label><b>dtype:</b> object</label>"
            ]
          },
          "metadata": {},
          "execution_count": 44
        }
      ]
    },
    {
      "cell_type": "code",
      "source": [
        "df[df['wind_capacity']!=0].min()"
      ],
      "metadata": {
        "colab": {
          "base_uri": "https://localhost:8080/",
          "height": 303
        },
        "id": "OvyMGV6hgr9k",
        "outputId": "8c940a88-cec5-4ab8-d5a3-a9163b1b608b",
        "collapsed": true
      },
      "execution_count": 45,
      "outputs": [
        {
          "output_type": "execute_result",
          "data": {
            "text/plain": [
              "entity                               Algeria\n",
              "year                                    2000\n",
              "electricity_from_fossil_fuels_TWh        0.0\n",
              "hydro_equ_primary_energy                 0.0\n",
              "wind_capacity                        0.00015\n",
              "solar_capacity                           0.0\n",
              "geothermal_capacity                      0.0\n",
              "dtype: object"
            ],
            "text/html": [
              "<div>\n",
              "<style scoped>\n",
              "    .dataframe tbody tr th:only-of-type {\n",
              "        vertical-align: middle;\n",
              "    }\n",
              "\n",
              "    .dataframe tbody tr th {\n",
              "        vertical-align: top;\n",
              "    }\n",
              "\n",
              "    .dataframe thead th {\n",
              "        text-align: right;\n",
              "    }\n",
              "</style>\n",
              "<table border=\"1\" class=\"dataframe\">\n",
              "  <thead>\n",
              "    <tr style=\"text-align: right;\">\n",
              "      <th></th>\n",
              "      <th>0</th>\n",
              "    </tr>\n",
              "  </thead>\n",
              "  <tbody>\n",
              "    <tr>\n",
              "      <th>entity</th>\n",
              "      <td>Algeria</td>\n",
              "    </tr>\n",
              "    <tr>\n",
              "      <th>year</th>\n",
              "      <td>2000</td>\n",
              "    </tr>\n",
              "    <tr>\n",
              "      <th>electricity_from_fossil_fuels_TWh</th>\n",
              "      <td>0.0</td>\n",
              "    </tr>\n",
              "    <tr>\n",
              "      <th>hydro_equ_primary_energy</th>\n",
              "      <td>0.0</td>\n",
              "    </tr>\n",
              "    <tr>\n",
              "      <th>wind_capacity</th>\n",
              "      <td>0.00015</td>\n",
              "    </tr>\n",
              "    <tr>\n",
              "      <th>solar_capacity</th>\n",
              "      <td>0.0</td>\n",
              "    </tr>\n",
              "    <tr>\n",
              "      <th>geothermal_capacity</th>\n",
              "      <td>0.0</td>\n",
              "    </tr>\n",
              "  </tbody>\n",
              "</table>\n",
              "</div><br><label><b>dtype:</b> object</label>"
            ]
          },
          "metadata": {},
          "execution_count": 45
        }
      ]
    },
    {
      "cell_type": "markdown",
      "source": [
        "**Replace the 0 in each column with the minimum value of the column for each of percent change calculation**"
      ],
      "metadata": {
        "id": "nHPvRpxHr0Uv"
      }
    },
    {
      "cell_type": "code",
      "source": [
        "df.loc[df['electricity_from_fossil_fuels_TWh']==0, 'electricity_from_fossil_fuels_TWh']=0.01"
      ],
      "metadata": {
        "id": "TGBxTvqJhd1B"
      },
      "execution_count": 46,
      "outputs": []
    },
    {
      "cell_type": "code",
      "source": [
        "df.loc[df['wind_capacity']==0, 'wind_capacity']=0.00015"
      ],
      "metadata": {
        "id": "VbHqthbYZeP1"
      },
      "execution_count": 47,
      "outputs": []
    },
    {
      "cell_type": "code",
      "source": [
        "df.loc[df['solar_capacity']==0, 'solar_capacity']=0.000015\n"
      ],
      "metadata": {
        "id": "NzGk0ypXU-qN"
      },
      "execution_count": 48,
      "outputs": []
    },
    {
      "cell_type": "code",
      "source": [
        "df.loc[df['geothermal_capacity']== 0, 'geothermal_capacity']=0.2"
      ],
      "metadata": {
        "id": "z7ANL4QOWftj"
      },
      "execution_count": 49,
      "outputs": []
    },
    {
      "cell_type": "code",
      "source": [
        "df.loc[df['hydro_equ_primary_energy'] == 0, 'hydro_equ_primary_energy'] = 0.01"
      ],
      "metadata": {
        "id": "4oxtoyKVW1Em"
      },
      "execution_count": 50,
      "outputs": []
    },
    {
      "cell_type": "markdown",
      "source": [
        "**Fill Null in targat and features with FFill**"
      ],
      "metadata": {
        "id": "k1bpy0wjvmt-"
      }
    },
    {
      "cell_type": "code",
      "source": [
        "df[['electricity_from_fossil_fuels_TWh','hydro_equ_primary_energy', 'wind_capacity', 'solar_capacity','geothermal_capacity']]=df[['electricity_from_fossil_fuels_TWh','hydro_equ_primary_energy', 'wind_capacity', 'solar_capacity','geothermal_capacity']].ffill(axis=1)\n"
      ],
      "metadata": {
        "id": "zlkoLevuK-ZR"
      },
      "execution_count": 51,
      "outputs": []
    },
    {
      "cell_type": "markdown",
      "source": [
        "**Calculate the percent change of fossil fuel and renewable energies capacities per entity**"
      ],
      "metadata": {
        "id": "9BxqTNPJv8aV"
      }
    },
    {
      "cell_type": "code",
      "source": [
        "df['fossil_pct_change'] = df['electricity_from_fossil_fuels_TWh'].pct_change(periods=1)"
      ],
      "metadata": {
        "id": "--Qr8P6bbMNm"
      },
      "execution_count": 52,
      "outputs": []
    },
    {
      "cell_type": "code",
      "source": [
        "df['hydro_pct_change'] = df['hydro_equ_primary_energy'].pct_change(periods=1, fill_method=None)"
      ],
      "metadata": {
        "id": "Lk29H2Urd-A1"
      },
      "execution_count": 53,
      "outputs": []
    },
    {
      "cell_type": "code",
      "source": [
        "df['wind_pct_change'] = df['wind_capacity'].pct_change(periods=1, fill_method=None)"
      ],
      "metadata": {
        "id": "MBbcvsS7fpIM"
      },
      "execution_count": 54,
      "outputs": []
    },
    {
      "cell_type": "code",
      "source": [
        "df['solar_pct_change'] = df['solar_capacity'].pct_change(periods=1, fill_method=None)"
      ],
      "metadata": {
        "id": "kNv988lRgTCK"
      },
      "execution_count": 55,
      "outputs": []
    },
    {
      "cell_type": "code",
      "source": [
        "df['geothermal_pct_change'] = df['geothermal_capacity'].pct_change(periods=1, fill_method=None)"
      ],
      "metadata": {
        "id": "hyI1NQYNg_w7"
      },
      "execution_count": 56,
      "outputs": []
    },
    {
      "cell_type": "code",
      "source": [
        "df = df[df['year'] != 2000]\n"
      ],
      "metadata": {
        "id": "U5jvcDJiiXyk"
      },
      "execution_count": 57,
      "outputs": []
    },
    {
      "cell_type": "markdown",
      "source": [
        "**Check for possible correlation between fossil fuel usage and percentatage chande in renewables capacities**\n"
      ],
      "metadata": {
        "id": "abhywkzIw1E9"
      }
    },
    {
      "cell_type": "code",
      "source": [
        "corr = df[['fossil_pct_change',\t'hydro_pct_change',\t'wind_pct_change',\t'solar_pct_change',\t'geothermal_pct_change']].corr()\n",
        "corr"
      ],
      "metadata": {
        "colab": {
          "base_uri": "https://localhost:8080/",
          "height": 206
        },
        "collapsed": true,
        "id": "jsurNWl5jCEL",
        "outputId": "c7ca5b48-d4c1-453a-a0ca-fa21527754ec"
      },
      "execution_count": 58,
      "outputs": [
        {
          "output_type": "execute_result",
          "data": {
            "text/plain": [
              "                       fossil_pct_change  hydro_pct_change  wind_pct_change  \\\n",
              "fossil_pct_change               1.000000          0.020404        -0.000420   \n",
              "hydro_pct_change                0.020404          1.000000         0.082966   \n",
              "wind_pct_change                -0.000420          0.082966         1.000000   \n",
              "solar_pct_change                0.016262          0.017561         0.019111   \n",
              "geothermal_pct_change           0.003333          0.017204         0.018966   \n",
              "\n",
              "                       solar_pct_change  geothermal_pct_change  \n",
              "fossil_pct_change              0.016262               0.003333  \n",
              "hydro_pct_change               0.017561               0.017204  \n",
              "wind_pct_change                0.019111               0.018966  \n",
              "solar_pct_change               1.000000               0.992353  \n",
              "geothermal_pct_change          0.992353               1.000000  "
            ],
            "text/html": [
              "\n",
              "  <div id=\"df-62040888-ff2c-4fc3-bb40-38917b9572cb\" class=\"colab-df-container\">\n",
              "    <div>\n",
              "<style scoped>\n",
              "    .dataframe tbody tr th:only-of-type {\n",
              "        vertical-align: middle;\n",
              "    }\n",
              "\n",
              "    .dataframe tbody tr th {\n",
              "        vertical-align: top;\n",
              "    }\n",
              "\n",
              "    .dataframe thead th {\n",
              "        text-align: right;\n",
              "    }\n",
              "</style>\n",
              "<table border=\"1\" class=\"dataframe\">\n",
              "  <thead>\n",
              "    <tr style=\"text-align: right;\">\n",
              "      <th></th>\n",
              "      <th>fossil_pct_change</th>\n",
              "      <th>hydro_pct_change</th>\n",
              "      <th>wind_pct_change</th>\n",
              "      <th>solar_pct_change</th>\n",
              "      <th>geothermal_pct_change</th>\n",
              "    </tr>\n",
              "  </thead>\n",
              "  <tbody>\n",
              "    <tr>\n",
              "      <th>fossil_pct_change</th>\n",
              "      <td>1.000000</td>\n",
              "      <td>0.020404</td>\n",
              "      <td>-0.000420</td>\n",
              "      <td>0.016262</td>\n",
              "      <td>0.003333</td>\n",
              "    </tr>\n",
              "    <tr>\n",
              "      <th>hydro_pct_change</th>\n",
              "      <td>0.020404</td>\n",
              "      <td>1.000000</td>\n",
              "      <td>0.082966</td>\n",
              "      <td>0.017561</td>\n",
              "      <td>0.017204</td>\n",
              "    </tr>\n",
              "    <tr>\n",
              "      <th>wind_pct_change</th>\n",
              "      <td>-0.000420</td>\n",
              "      <td>0.082966</td>\n",
              "      <td>1.000000</td>\n",
              "      <td>0.019111</td>\n",
              "      <td>0.018966</td>\n",
              "    </tr>\n",
              "    <tr>\n",
              "      <th>solar_pct_change</th>\n",
              "      <td>0.016262</td>\n",
              "      <td>0.017561</td>\n",
              "      <td>0.019111</td>\n",
              "      <td>1.000000</td>\n",
              "      <td>0.992353</td>\n",
              "    </tr>\n",
              "    <tr>\n",
              "      <th>geothermal_pct_change</th>\n",
              "      <td>0.003333</td>\n",
              "      <td>0.017204</td>\n",
              "      <td>0.018966</td>\n",
              "      <td>0.992353</td>\n",
              "      <td>1.000000</td>\n",
              "    </tr>\n",
              "  </tbody>\n",
              "</table>\n",
              "</div>\n",
              "    <div class=\"colab-df-buttons\">\n",
              "\n",
              "  <div class=\"colab-df-container\">\n",
              "    <button class=\"colab-df-convert\" onclick=\"convertToInteractive('df-62040888-ff2c-4fc3-bb40-38917b9572cb')\"\n",
              "            title=\"Convert this dataframe to an interactive table.\"\n",
              "            style=\"display:none;\">\n",
              "\n",
              "  <svg xmlns=\"http://www.w3.org/2000/svg\" height=\"24px\" viewBox=\"0 -960 960 960\">\n",
              "    <path d=\"M120-120v-720h720v720H120Zm60-500h600v-160H180v160Zm220 220h160v-160H400v160Zm0 220h160v-160H400v160ZM180-400h160v-160H180v160Zm440 0h160v-160H620v160ZM180-180h160v-160H180v160Zm440 0h160v-160H620v160Z\"/>\n",
              "  </svg>\n",
              "    </button>\n",
              "\n",
              "  <style>\n",
              "    .colab-df-container {\n",
              "      display:flex;\n",
              "      gap: 12px;\n",
              "    }\n",
              "\n",
              "    .colab-df-convert {\n",
              "      background-color: #E8F0FE;\n",
              "      border: none;\n",
              "      border-radius: 50%;\n",
              "      cursor: pointer;\n",
              "      display: none;\n",
              "      fill: #1967D2;\n",
              "      height: 32px;\n",
              "      padding: 0 0 0 0;\n",
              "      width: 32px;\n",
              "    }\n",
              "\n",
              "    .colab-df-convert:hover {\n",
              "      background-color: #E2EBFA;\n",
              "      box-shadow: 0px 1px 2px rgba(60, 64, 67, 0.3), 0px 1px 3px 1px rgba(60, 64, 67, 0.15);\n",
              "      fill: #174EA6;\n",
              "    }\n",
              "\n",
              "    .colab-df-buttons div {\n",
              "      margin-bottom: 4px;\n",
              "    }\n",
              "\n",
              "    [theme=dark] .colab-df-convert {\n",
              "      background-color: #3B4455;\n",
              "      fill: #D2E3FC;\n",
              "    }\n",
              "\n",
              "    [theme=dark] .colab-df-convert:hover {\n",
              "      background-color: #434B5C;\n",
              "      box-shadow: 0px 1px 3px 1px rgba(0, 0, 0, 0.15);\n",
              "      filter: drop-shadow(0px 1px 2px rgba(0, 0, 0, 0.3));\n",
              "      fill: #FFFFFF;\n",
              "    }\n",
              "  </style>\n",
              "\n",
              "    <script>\n",
              "      const buttonEl =\n",
              "        document.querySelector('#df-62040888-ff2c-4fc3-bb40-38917b9572cb button.colab-df-convert');\n",
              "      buttonEl.style.display =\n",
              "        google.colab.kernel.accessAllowed ? 'block' : 'none';\n",
              "\n",
              "      async function convertToInteractive(key) {\n",
              "        const element = document.querySelector('#df-62040888-ff2c-4fc3-bb40-38917b9572cb');\n",
              "        const dataTable =\n",
              "          await google.colab.kernel.invokeFunction('convertToInteractive',\n",
              "                                                    [key], {});\n",
              "        if (!dataTable) return;\n",
              "\n",
              "        const docLinkHtml = 'Like what you see? Visit the ' +\n",
              "          '<a target=\"_blank\" href=https://colab.research.google.com/notebooks/data_table.ipynb>data table notebook</a>'\n",
              "          + ' to learn more about interactive tables.';\n",
              "        element.innerHTML = '';\n",
              "        dataTable['output_type'] = 'display_data';\n",
              "        await google.colab.output.renderOutput(dataTable, element);\n",
              "        const docLink = document.createElement('div');\n",
              "        docLink.innerHTML = docLinkHtml;\n",
              "        element.appendChild(docLink);\n",
              "      }\n",
              "    </script>\n",
              "  </div>\n",
              "\n",
              "\n",
              "<div id=\"df-0cdacb00-11d9-4d0e-be17-92f0c42b4092\">\n",
              "  <button class=\"colab-df-quickchart\" onclick=\"quickchart('df-0cdacb00-11d9-4d0e-be17-92f0c42b4092')\"\n",
              "            title=\"Suggest charts\"\n",
              "            style=\"display:none;\">\n",
              "\n",
              "<svg xmlns=\"http://www.w3.org/2000/svg\" height=\"24px\"viewBox=\"0 0 24 24\"\n",
              "     width=\"24px\">\n",
              "    <g>\n",
              "        <path d=\"M19 3H5c-1.1 0-2 .9-2 2v14c0 1.1.9 2 2 2h14c1.1 0 2-.9 2-2V5c0-1.1-.9-2-2-2zM9 17H7v-7h2v7zm4 0h-2V7h2v10zm4 0h-2v-4h2v4z\"/>\n",
              "    </g>\n",
              "</svg>\n",
              "  </button>\n",
              "\n",
              "<style>\n",
              "  .colab-df-quickchart {\n",
              "      --bg-color: #E8F0FE;\n",
              "      --fill-color: #1967D2;\n",
              "      --hover-bg-color: #E2EBFA;\n",
              "      --hover-fill-color: #174EA6;\n",
              "      --disabled-fill-color: #AAA;\n",
              "      --disabled-bg-color: #DDD;\n",
              "  }\n",
              "\n",
              "  [theme=dark] .colab-df-quickchart {\n",
              "      --bg-color: #3B4455;\n",
              "      --fill-color: #D2E3FC;\n",
              "      --hover-bg-color: #434B5C;\n",
              "      --hover-fill-color: #FFFFFF;\n",
              "      --disabled-bg-color: #3B4455;\n",
              "      --disabled-fill-color: #666;\n",
              "  }\n",
              "\n",
              "  .colab-df-quickchart {\n",
              "    background-color: var(--bg-color);\n",
              "    border: none;\n",
              "    border-radius: 50%;\n",
              "    cursor: pointer;\n",
              "    display: none;\n",
              "    fill: var(--fill-color);\n",
              "    height: 32px;\n",
              "    padding: 0;\n",
              "    width: 32px;\n",
              "  }\n",
              "\n",
              "  .colab-df-quickchart:hover {\n",
              "    background-color: var(--hover-bg-color);\n",
              "    box-shadow: 0 1px 2px rgba(60, 64, 67, 0.3), 0 1px 3px 1px rgba(60, 64, 67, 0.15);\n",
              "    fill: var(--button-hover-fill-color);\n",
              "  }\n",
              "\n",
              "  .colab-df-quickchart-complete:disabled,\n",
              "  .colab-df-quickchart-complete:disabled:hover {\n",
              "    background-color: var(--disabled-bg-color);\n",
              "    fill: var(--disabled-fill-color);\n",
              "    box-shadow: none;\n",
              "  }\n",
              "\n",
              "  .colab-df-spinner {\n",
              "    border: 2px solid var(--fill-color);\n",
              "    border-color: transparent;\n",
              "    border-bottom-color: var(--fill-color);\n",
              "    animation:\n",
              "      spin 1s steps(1) infinite;\n",
              "  }\n",
              "\n",
              "  @keyframes spin {\n",
              "    0% {\n",
              "      border-color: transparent;\n",
              "      border-bottom-color: var(--fill-color);\n",
              "      border-left-color: var(--fill-color);\n",
              "    }\n",
              "    20% {\n",
              "      border-color: transparent;\n",
              "      border-left-color: var(--fill-color);\n",
              "      border-top-color: var(--fill-color);\n",
              "    }\n",
              "    30% {\n",
              "      border-color: transparent;\n",
              "      border-left-color: var(--fill-color);\n",
              "      border-top-color: var(--fill-color);\n",
              "      border-right-color: var(--fill-color);\n",
              "    }\n",
              "    40% {\n",
              "      border-color: transparent;\n",
              "      border-right-color: var(--fill-color);\n",
              "      border-top-color: var(--fill-color);\n",
              "    }\n",
              "    60% {\n",
              "      border-color: transparent;\n",
              "      border-right-color: var(--fill-color);\n",
              "    }\n",
              "    80% {\n",
              "      border-color: transparent;\n",
              "      border-right-color: var(--fill-color);\n",
              "      border-bottom-color: var(--fill-color);\n",
              "    }\n",
              "    90% {\n",
              "      border-color: transparent;\n",
              "      border-bottom-color: var(--fill-color);\n",
              "    }\n",
              "  }\n",
              "</style>\n",
              "\n",
              "  <script>\n",
              "    async function quickchart(key) {\n",
              "      const quickchartButtonEl =\n",
              "        document.querySelector('#' + key + ' button');\n",
              "      quickchartButtonEl.disabled = true;  // To prevent multiple clicks.\n",
              "      quickchartButtonEl.classList.add('colab-df-spinner');\n",
              "      try {\n",
              "        const charts = await google.colab.kernel.invokeFunction(\n",
              "            'suggestCharts', [key], {});\n",
              "      } catch (error) {\n",
              "        console.error('Error during call to suggestCharts:', error);\n",
              "      }\n",
              "      quickchartButtonEl.classList.remove('colab-df-spinner');\n",
              "      quickchartButtonEl.classList.add('colab-df-quickchart-complete');\n",
              "    }\n",
              "    (() => {\n",
              "      let quickchartButtonEl =\n",
              "        document.querySelector('#df-0cdacb00-11d9-4d0e-be17-92f0c42b4092 button');\n",
              "      quickchartButtonEl.style.display =\n",
              "        google.colab.kernel.accessAllowed ? 'block' : 'none';\n",
              "    })();\n",
              "  </script>\n",
              "</div>\n",
              "\n",
              "  <div id=\"id_dcf64314-4358-4d2b-8bcd-c5478a139421\">\n",
              "    <style>\n",
              "      .colab-df-generate {\n",
              "        background-color: #E8F0FE;\n",
              "        border: none;\n",
              "        border-radius: 50%;\n",
              "        cursor: pointer;\n",
              "        display: none;\n",
              "        fill: #1967D2;\n",
              "        height: 32px;\n",
              "        padding: 0 0 0 0;\n",
              "        width: 32px;\n",
              "      }\n",
              "\n",
              "      .colab-df-generate:hover {\n",
              "        background-color: #E2EBFA;\n",
              "        box-shadow: 0px 1px 2px rgba(60, 64, 67, 0.3), 0px 1px 3px 1px rgba(60, 64, 67, 0.15);\n",
              "        fill: #174EA6;\n",
              "      }\n",
              "\n",
              "      [theme=dark] .colab-df-generate {\n",
              "        background-color: #3B4455;\n",
              "        fill: #D2E3FC;\n",
              "      }\n",
              "\n",
              "      [theme=dark] .colab-df-generate:hover {\n",
              "        background-color: #434B5C;\n",
              "        box-shadow: 0px 1px 3px 1px rgba(0, 0, 0, 0.15);\n",
              "        filter: drop-shadow(0px 1px 2px rgba(0, 0, 0, 0.3));\n",
              "        fill: #FFFFFF;\n",
              "      }\n",
              "    </style>\n",
              "    <button class=\"colab-df-generate\" onclick=\"generateWithVariable('corr')\"\n",
              "            title=\"Generate code using this dataframe.\"\n",
              "            style=\"display:none;\">\n",
              "\n",
              "  <svg xmlns=\"http://www.w3.org/2000/svg\" height=\"24px\"viewBox=\"0 0 24 24\"\n",
              "       width=\"24px\">\n",
              "    <path d=\"M7,19H8.4L18.45,9,17,7.55,7,17.6ZM5,21V16.75L18.45,3.32a2,2,0,0,1,2.83,0l1.4,1.43a1.91,1.91,0,0,1,.58,1.4,1.91,1.91,0,0,1-.58,1.4L9.25,21ZM18.45,9,17,7.55Zm-12,3A5.31,5.31,0,0,0,4.9,8.1,5.31,5.31,0,0,0,1,6.5,5.31,5.31,0,0,0,4.9,4.9,5.31,5.31,0,0,0,6.5,1,5.31,5.31,0,0,0,8.1,4.9,5.31,5.31,0,0,0,12,6.5,5.46,5.46,0,0,0,6.5,12Z\"/>\n",
              "  </svg>\n",
              "    </button>\n",
              "    <script>\n",
              "      (() => {\n",
              "      const buttonEl =\n",
              "        document.querySelector('#id_dcf64314-4358-4d2b-8bcd-c5478a139421 button.colab-df-generate');\n",
              "      buttonEl.style.display =\n",
              "        google.colab.kernel.accessAllowed ? 'block' : 'none';\n",
              "\n",
              "      buttonEl.onclick = () => {\n",
              "        google.colab.notebook.generateWithVariable('corr');\n",
              "      }\n",
              "      })();\n",
              "    </script>\n",
              "  </div>\n",
              "\n",
              "    </div>\n",
              "  </div>\n"
            ],
            "application/vnd.google.colaboratory.intrinsic+json": {
              "type": "dataframe",
              "variable_name": "corr",
              "summary": "{\n  \"name\": \"corr\",\n  \"rows\": 5,\n  \"fields\": [\n    {\n      \"column\": \"fossil_pct_change\",\n      \"properties\": {\n        \"dtype\": \"number\",\n        \"std\": 0.4428732195130881,\n        \"min\": -0.00042005474806528246,\n        \"max\": 1.0,\n        \"num_unique_values\": 5,\n        \"samples\": [\n          0.020404489599131798,\n          0.003333277659625908,\n          -0.00042005474806528246\n        ],\n        \"semantic_type\": \"\",\n        \"description\": \"\"\n      }\n    },\n    {\n      \"column\": \"hydro_pct_change\",\n      \"properties\": {\n        \"dtype\": \"number\",\n        \"std\": 0.4326757703297387,\n        \"min\": 0.017203910079781514,\n        \"max\": 1.0,\n        \"num_unique_values\": 5,\n        \"samples\": [\n          1.0,\n          0.017203910079781514,\n          0.08296647121698088\n        ],\n        \"semantic_type\": \"\",\n        \"description\": \"\"\n      }\n    },\n    {\n      \"column\": \"wind_pct_change\",\n      \"properties\": {\n        \"dtype\": \"number\",\n        \"std\": 0.4348703613405906,\n        \"min\": -0.00042005474806528246,\n        \"max\": 1.0,\n        \"num_unique_values\": 5,\n        \"samples\": [\n          0.08296647121698088,\n          0.018966442523603824,\n          1.0\n        ],\n        \"semantic_type\": \"\",\n        \"description\": \"\"\n      }\n    },\n    {\n      \"column\": \"solar_pct_change\",\n      \"properties\": {\n        \"dtype\": \"number\",\n        \"std\": 0.5359715081420208,\n        \"min\": 0.016262347098339885,\n        \"max\": 1.0,\n        \"num_unique_values\": 5,\n        \"samples\": [\n          0.017561477800611375,\n          0.9923528774301563,\n          0.019111187052258737\n        ],\n        \"semantic_type\": \"\",\n        \"description\": \"\"\n      }\n    },\n    {\n      \"column\": \"geothermal_pct_change\",\n      \"properties\": {\n        \"dtype\": \"number\",\n        \"std\": 0.5384567928294912,\n        \"min\": 0.003333277659625908,\n        \"max\": 1.0,\n        \"num_unique_values\": 5,\n        \"samples\": [\n          0.017203910079781514,\n          1.0,\n          0.018966442523603824\n        ],\n        \"semantic_type\": \"\",\n        \"description\": \"\"\n      }\n    }\n  ]\n}"
            }
          },
          "metadata": {},
          "execution_count": 58
        }
      ]
    },
    {
      "cell_type": "code",
      "source": [
        "# visulaising the correlation matrix\n",
        "plt.figure(figsize=(15, 8))\n",
        "sns.heatmap(corr, vmin = -1, vmax = 1,cmap = \"viridis\",annot = True, fmt = '.2f')\n",
        "plt.title('Pearson Correlation Matrix', fontsize=16)\n",
        "plt.xticks(rotation = 45)\n",
        "plt.show()"
      ],
      "metadata": {
        "colab": {
          "base_uri": "https://localhost:8080/",
          "height": 815
        },
        "id": "NDafBEU3kWnL",
        "outputId": "366f7c06-616e-458c-ae66-b381723be0c2",
        "collapsed": true
      },
      "execution_count": 59,
      "outputs": [
        {
          "output_type": "display_data",
          "data": {
            "text/plain": [
              "<Figure size 1500x800 with 2 Axes>"
            ],
            "image/png": "[encoded data removed]"
          },
          "metadata": {}
        }
      ]
    },
    {
      "cell_type": "code",
      "source": [
        "df.describe()"
      ],
      "metadata": {
        "colab": {
          "base_uri": "https://localhost:8080/",
          "height": 320
        },
        "collapsed": true,
        "id": "pVxTKfeN5jmS",
        "outputId": "9f6e1e6c-e3e2-4e9e-9e3b-1d9fd5a8e679"
      },
      "execution_count": 60,
      "outputs": [
        {
          "output_type": "execute_result",
          "data": {
            "text/plain": [
              "           year  electricity_from_fossil_fuels_TWh  hydro_equ_primary_energy  \\\n",
              "count    1660.0                        1660.000000               1660.000000   \n",
              "mean     2010.5                         145.855036                  8.218500   \n",
              "std    5.768019                         498.566570                 12.354187   \n",
              "min      2001.0                           0.010000                  0.010000   \n",
              "25%     2005.75                           5.942500                  0.530000   \n",
              "50%      2010.5                          27.780000                  3.125000   \n",
              "75%     2015.25                          90.090000                 10.932500   \n",
              "max      2020.0                        5184.130000                 69.280000   \n",
              "\n",
              "       wind_capacity  solar_capacity  geothermal_capacity  fossil_pct_change  \\\n",
              "count    1660.000000     1660.000000          1660.000000        1660.000000   \n",
              "mean        6.604671        4.899410           126.725372           0.155037   \n",
              "std        16.550303       13.980038           395.163640           4.036164   \n",
              "min         0.000150        0.000015             0.000015          -0.877551   \n",
              "25%         0.074000        0.010000             0.011501          -0.031581   \n",
              "50%         1.348575        0.414900             0.888297           0.020275   \n",
              "75%         4.813731        2.790000            18.000000           0.072841   \n",
              "max       282.112660      253.417800          2607.000000         162.402930   \n",
              "\n",
              "       hydro_pct_change  wind_pct_change  solar_pct_change  \\\n",
              "count       1660.000000      1660.000000       1660.000000   \n",
              "mean           0.044555         0.522275          3.757955   \n",
              "std            0.576577         6.421609         61.520568   \n",
              "min           -0.998476        -0.998476         -0.809524   \n",
              "25%           -0.084690         0.000000          0.000000   \n",
              "50%            0.000000         0.036561          0.055016   \n",
              "75%            0.085050         0.208429          0.324604   \n",
              "max           16.538462       219.000000       2026.333333   \n",
              "\n",
              "       geothermal_pct_change  \n",
              "count            1660.000000  \n",
              "mean                3.739405  \n",
              "std                61.577239  \n",
              "min                -0.721805  \n",
              "25%                 0.000000  \n",
              "50%                 0.000000  \n",
              "75%                 0.205170  \n",
              "max              2026.333333  "
            ],
            "text/html": [
              "\n",
              "  <div id=\"df-cbbd862d-4c71-4907-9348-89dcc1562f73\" class=\"colab-df-container\">\n",
              "    <div>\n",
              "<style scoped>\n",
              "    .dataframe tbody tr th:only-of-type {\n",
              "        vertical-align: middle;\n",
              "    }\n",
              "\n",
              "    .dataframe tbody tr th {\n",
              "        vertical-align: top;\n",
              "    }\n",
              "\n",
              "    .dataframe thead th {\n",
              "        text-align: right;\n",
              "    }\n",
              "</style>\n",
              "<table border=\"1\" class=\"dataframe\">\n",
              "  <thead>\n",
              "    <tr style=\"text-align: right;\">\n",
              "      <th></th>\n",
              "      <th>year</th>\n",
              "      <th>electricity_from_fossil_fuels_TWh</th>\n",
              "      <th>hydro_equ_primary_energy</th>\n",
              "      <th>wind_capacity</th>\n",
              "      <th>solar_capacity</th>\n",
              "      <th>geothermal_capacity</th>\n",
              "      <th>fossil_pct_change</th>\n",
              "      <th>hydro_pct_change</th>\n",
              "      <th>wind_pct_change</th>\n",
              "      <th>solar_pct_change</th>\n",
              "      <th>geothermal_pct_change</th>\n",
              "    </tr>\n",
              "  </thead>\n",
              "  <tbody>\n",
              "    <tr>\n",
              "      <th>count</th>\n",
              "      <td>1660.0</td>\n",
              "      <td>1660.000000</td>\n",
              "      <td>1660.000000</td>\n",
              "      <td>1660.000000</td>\n",
              "      <td>1660.000000</td>\n",
              "      <td>1660.000000</td>\n",
              "      <td>1660.000000</td>\n",
              "      <td>1660.000000</td>\n",
              "      <td>1660.000000</td>\n",
              "      <td>1660.000000</td>\n",
              "      <td>1660.000000</td>\n",
              "    </tr>\n",
              "    <tr>\n",
              "      <th>mean</th>\n",
              "      <td>2010.5</td>\n",
              "      <td>145.855036</td>\n",
              "      <td>8.218500</td>\n",
              "      <td>6.604671</td>\n",
              "      <td>4.899410</td>\n",
              "      <td>126.725372</td>\n",
              "      <td>0.155037</td>\n",
              "      <td>0.044555</td>\n",
              "      <td>0.522275</td>\n",
              "      <td>3.757955</td>\n",
              "      <td>3.739405</td>\n",
              "    </tr>\n",
              "    <tr>\n",
              "      <th>std</th>\n",
              "      <td>5.768019</td>\n",
              "      <td>498.566570</td>\n",
              "      <td>12.354187</td>\n",
              "      <td>16.550303</td>\n",
              "      <td>13.980038</td>\n",
              "      <td>395.163640</td>\n",
              "      <td>4.036164</td>\n",
              "      <td>0.576577</td>\n",
              "      <td>6.421609</td>\n",
              "      <td>61.520568</td>\n",
              "      <td>61.577239</td>\n",
              "    </tr>\n",
              "    <tr>\n",
              "      <th>min</th>\n",
              "      <td>2001.0</td>\n",
              "      <td>0.010000</td>\n",
              "      <td>0.010000</td>\n",
              "      <td>0.000150</td>\n",
              "      <td>0.000015</td>\n",
              "      <td>0.000015</td>\n",
              "      <td>-0.877551</td>\n",
              "      <td>-0.998476</td>\n",
              "      <td>-0.998476</td>\n",
              "      <td>-0.809524</td>\n",
              "      <td>-0.721805</td>\n",
              "    </tr>\n",
              "    <tr>\n",
              "      <th>25%</th>\n",
              "      <td>2005.75</td>\n",
              "      <td>5.942500</td>\n",
              "      <td>0.530000</td>\n",
              "      <td>0.074000</td>\n",
              "      <td>0.010000</td>\n",
              "      <td>0.011501</td>\n",
              "      <td>-0.031581</td>\n",
              "      <td>-0.084690</td>\n",
              "      <td>0.000000</td>\n",
              "      <td>0.000000</td>\n",
              "      <td>0.000000</td>\n",
              "    </tr>\n",
              "    <tr>\n",
              "      <th>50%</th>\n",
              "      <td>2010.5</td>\n",
              "      <td>27.780000</td>\n",
              "      <td>3.125000</td>\n",
              "      <td>1.348575</td>\n",
              "      <td>0.414900</td>\n",
              "      <td>0.888297</td>\n",
              "      <td>0.020275</td>\n",
              "      <td>0.000000</td>\n",
              "      <td>0.036561</td>\n",
              "      <td>0.055016</td>\n",
              "      <td>0.000000</td>\n",
              "    </tr>\n",
              "    <tr>\n",
              "      <th>75%</th>\n",
              "      <td>2015.25</td>\n",
              "      <td>90.090000</td>\n",
              "      <td>10.932500</td>\n",
              "      <td>4.813731</td>\n",
              "      <td>2.790000</td>\n",
              "      <td>18.000000</td>\n",
              "      <td>0.072841</td>\n",
              "      <td>0.085050</td>\n",
              "      <td>0.208429</td>\n",
              "      <td>0.324604</td>\n",
              "      <td>0.205170</td>\n",
              "    </tr>\n",
              "    <tr>\n",
              "      <th>max</th>\n",
              "      <td>2020.0</td>\n",
              "      <td>5184.130000</td>\n",
              "      <td>69.280000</td>\n",
              "      <td>282.112660</td>\n",
              "      <td>253.417800</td>\n",
              "      <td>2607.000000</td>\n",
              "      <td>162.402930</td>\n",
              "      <td>16.538462</td>\n",
              "      <td>219.000000</td>\n",
              "      <td>2026.333333</td>\n",
              "      <td>2026.333333</td>\n",
              "    </tr>\n",
              "  </tbody>\n",
              "</table>\n",
              "</div>\n",
              "    <div class=\"colab-df-buttons\">\n",
              "\n",
              "  <div class=\"colab-df-container\">\n",
              "    <button class=\"colab-df-convert\" onclick=\"convertToInteractive('df-cbbd862d-4c71-4907-9348-89dcc1562f73')\"\n",
              "            title=\"Convert this dataframe to an interactive table.\"\n",
              "            style=\"display:none;\">\n",
              "\n",
              "  <svg xmlns=\"http://www.w3.org/2000/svg\" height=\"24px\" viewBox=\"0 -960 960 960\">\n",
              "    <path d=\"M120-120v-720h720v720H120Zm60-500h600v-160H180v160Zm220 220h160v-160H400v160Zm0 220h160v-160H400v160ZM180-400h160v-160H180v160Zm440 0h160v-160H620v160ZM180-180h160v-160H180v160Zm440 0h160v-160H620v160Z\"/>\n",
              "  </svg>\n",
              "    </button>\n",
              "\n",
              "  <style>\n",
              "    .colab-df-container {\n",
              "      display:flex;\n",
              "      gap: 12px;\n",
              "    }\n",
              "\n",
              "    .colab-df-convert {\n",
              "      background-color: #E8F0FE;\n",
              "      border: none;\n",
              "      border-radius: 50%;\n",
              "      cursor: pointer;\n",
              "      display: none;\n",
              "      fill: #1967D2;\n",
              "      height: 32px;\n",
              "      padding: 0 0 0 0;\n",
              "      width: 32px;\n",
              "    }\n",
              "\n",
              "    .colab-df-convert:hover {\n",
              "      background-color: #E2EBFA;\n",
              "      box-shadow: 0px 1px 2px rgba(60, 64, 67, 0.3), 0px 1px 3px 1px rgba(60, 64, 67, 0.15);\n",
              "      fill: #174EA6;\n",
              "    }\n",
              "\n",
              "    .colab-df-buttons div {\n",
              "      margin-bottom: 4px;\n",
              "    }\n",
              "\n",
              "    [theme=dark] .colab-df-convert {\n",
              "      background-color: #3B4455;\n",
              "      fill: #D2E3FC;\n",
              "    }\n",
              "\n",
              "    [theme=dark] .colab-df-convert:hover {\n",
              "      background-color: #434B5C;\n",
              "      box-shadow: 0px 1px 3px 1px rgba(0, 0, 0, 0.15);\n",
              "      filter: drop-shadow(0px 1px 2px rgba(0, 0, 0, 0.3));\n",
              "      fill: #FFFFFF;\n",
              "    }\n",
              "  </style>\n",
              "\n",
              "    <script>\n",
              "      const buttonEl =\n",
              "        document.querySelector('#df-cbbd862d-4c71-4907-9348-89dcc1562f73 button.colab-df-convert');\n",
              "      buttonEl.style.display =\n",
              "        google.colab.kernel.accessAllowed ? 'block' : 'none';\n",
              "\n",
              "      async function convertToInteractive(key) {\n",
              "        const element = document.querySelector('#df-cbbd862d-4c71-4907-9348-89dcc1562f73');\n",
              "        const dataTable =\n",
              "          await google.colab.kernel.invokeFunction('convertToInteractive',\n",
              "                                                    [key], {});\n",
              "        if (!dataTable) return;\n",
              "\n",
              "        const docLinkHtml = 'Like what you see? Visit the ' +\n",
              "          '<a target=\"_blank\" href=https://colab.research.google.com/notebooks/data_table.ipynb>data table notebook</a>'\n",
              "          + ' to learn more about interactive tables.';\n",
              "        element.innerHTML = '';\n",
              "        dataTable['output_type'] = 'display_data';\n",
              "        await google.colab.output.renderOutput(dataTable, element);\n",
              "        const docLink = document.createElement('div');\n",
              "        docLink.innerHTML = docLinkHtml;\n",
              "        element.appendChild(docLink);\n",
              "      }\n",
              "    </script>\n",
              "  </div>\n",
              "\n",
              "\n",
              "<div id=\"df-8fb4de99-ed28-4701-9216-167f31965449\">\n",
              "  <button class=\"colab-df-quickchart\" onclick=\"quickchart('df-8fb4de99-ed28-4701-9216-167f31965449')\"\n",
              "            title=\"Suggest charts\"\n",
              "            style=\"display:none;\">\n",
              "\n",
              "<svg xmlns=\"http://www.w3.org/2000/svg\" height=\"24px\"viewBox=\"0 0 24 24\"\n",
              "     width=\"24px\">\n",
              "    <g>\n",
              "        <path d=\"M19 3H5c-1.1 0-2 .9-2 2v14c0 1.1.9 2 2 2h14c1.1 0 2-.9 2-2V5c0-1.1-.9-2-2-2zM9 17H7v-7h2v7zm4 0h-2V7h2v10zm4 0h-2v-4h2v4z\"/>\n",
              "    </g>\n",
              "</svg>\n",
              "  </button>\n",
              "\n",
              "<style>\n",
              "  .colab-df-quickchart {\n",
              "      --bg-color: #E8F0FE;\n",
              "      --fill-color: #1967D2;\n",
              "      --hover-bg-color: #E2EBFA;\n",
              "      --hover-fill-color: #174EA6;\n",
              "      --disabled-fill-color: #AAA;\n",
              "      --disabled-bg-color: #DDD;\n",
              "  }\n",
              "\n",
              "  [theme=dark] .colab-df-quickchart {\n",
              "      --bg-color: #3B4455;\n",
              "      --fill-color: #D2E3FC;\n",
              "      --hover-bg-color: #434B5C;\n",
              "      --hover-fill-color: #FFFFFF;\n",
              "      --disabled-bg-color: #3B4455;\n",
              "      --disabled-fill-color: #666;\n",
              "  }\n",
              "\n",
              "  .colab-df-quickchart {\n",
              "    background-color: var(--bg-color);\n",
              "    border: none;\n",
              "    border-radius: 50%;\n",
              "    cursor: pointer;\n",
              "    display: none;\n",
              "    fill: var(--fill-color);\n",
              "    height: 32px;\n",
              "    padding: 0;\n",
              "    width: 32px;\n",
              "  }\n",
              "\n",
              "  .colab-df-quickchart:hover {\n",
              "    background-color: var(--hover-bg-color);\n",
              "    box-shadow: 0 1px 2px rgba(60, 64, 67, 0.3), 0 1px 3px 1px rgba(60, 64, 67, 0.15);\n",
              "    fill: var(--button-hover-fill-color);\n",
              "  }\n",
              "\n",
              "  .colab-df-quickchart-complete:disabled,\n",
              "  .colab-df-quickchart-complete:disabled:hover {\n",
              "    background-color: var(--disabled-bg-color);\n",
              "    fill: var(--disabled-fill-color);\n",
              "    box-shadow: none;\n",
              "  }\n",
              "\n",
              "  .colab-df-spinner {\n",
              "    border: 2px solid var(--fill-color);\n",
              "    border-color: transparent;\n",
              "    border-bottom-color: var(--fill-color);\n",
              "    animation:\n",
              "      spin 1s steps(1) infinite;\n",
              "  }\n",
              "\n",
              "  @keyframes spin {\n",
              "    0% {\n",
              "      border-color: transparent;\n",
              "      border-bottom-color: var(--fill-color);\n",
              "      border-left-color: var(--fill-color);\n",
              "    }\n",
              "    20% {\n",
              "      border-color: transparent;\n",
              "      border-left-color: var(--fill-color);\n",
              "      border-top-color: var(--fill-color);\n",
              "    }\n",
              "    30% {\n",
              "      border-color: transparent;\n",
              "      border-left-color: var(--fill-color);\n",
              "      border-top-color: var(--fill-color);\n",
              "      border-right-color: var(--fill-color);\n",
              "    }\n",
              "    40% {\n",
              "      border-color: transparent;\n",
              "      border-right-color: var(--fill-color);\n",
              "      border-top-color: var(--fill-color);\n",
              "    }\n",
              "    60% {\n",
              "      border-color: transparent;\n",
              "      border-right-color: var(--fill-color);\n",
              "    }\n",
              "    80% {\n",
              "      border-color: transparent;\n",
              "      border-right-color: var(--fill-color);\n",
              "      border-bottom-color: var(--fill-color);\n",
              "    }\n",
              "    90% {\n",
              "      border-color: transparent;\n",
              "      border-bottom-color: var(--fill-color);\n",
              "    }\n",
              "  }\n",
              "</style>\n",
              "\n",
              "  <script>\n",
              "    async function quickchart(key) {\n",
              "      const quickchartButtonEl =\n",
              "        document.querySelector('#' + key + ' button');\n",
              "      quickchartButtonEl.disabled = true;  // To prevent multiple clicks.\n",
              "      quickchartButtonEl.classList.add('colab-df-spinner');\n",
              "      try {\n",
              "        const charts = await google.colab.kernel.invokeFunction(\n",
              "            'suggestCharts', [key], {});\n",
              "      } catch (error) {\n",
              "        console.error('Error during call to suggestCharts:', error);\n",
              "      }\n",
              "      quickchartButtonEl.classList.remove('colab-df-spinner');\n",
              "      quickchartButtonEl.classList.add('colab-df-quickchart-complete');\n",
              "    }\n",
              "    (() => {\n",
              "      let quickchartButtonEl =\n",
              "        document.querySelector('#df-8fb4de99-ed28-4701-9216-167f31965449 button');\n",
              "      quickchartButtonEl.style.display =\n",
              "        google.colab.kernel.accessAllowed ? 'block' : 'none';\n",
              "    })();\n",
              "  </script>\n",
              "</div>\n",
              "\n",
              "    </div>\n",
              "  </div>\n"
            ],
            "application/vnd.google.colaboratory.intrinsic+json": {
              "type": "dataframe",
              "summary": "{\n  \"name\": \"df\",\n  \"rows\": 8,\n  \"fields\": [\n    {\n      \"column\": \"year\",\n      \"properties\": {\n        \"dtype\": \"Float64\",\n        \"num_unique_values\": 7,\n        \"samples\": [\n          1660.0,\n          2010.5,\n          2015.25\n        ],\n        \"semantic_type\": \"\",\n        \"description\": \"\"\n      }\n    },\n    {\n      \"column\": \"electricity_from_fossil_fuels_TWh\",\n      \"properties\": {\n        \"dtype\": \"number\",\n        \"std\": 1799.4459258804284,\n        \"min\": 0.01,\n        \"max\": 5184.13,\n        \"num_unique_values\": 8,\n        \"samples\": [\n          145.8550361445783,\n          27.78,\n          1660.0\n        ],\n        \"semantic_type\": \"\",\n        \"description\": \"\"\n      }\n    },\n    {\n      \"column\": \"hydro_equ_primary_energy\",\n      \"properties\": {\n        \"dtype\": \"number\",\n        \"std\": 582.0639258494132,\n        \"min\": 0.01,\n        \"max\": 1660.0,\n        \"num_unique_values\": 8,\n        \"samples\": [\n          8.218499999999999,\n          3.125,\n          1660.0\n        ],\n        \"semantic_type\": \"\",\n        \"description\": \"\"\n      }\n    },\n    {\n      \"column\": \"wind_capacity\",\n      \"properties\": {\n        \"dtype\": \"number\",\n        \"std\": 579.3686879559319,\n        \"min\": 0.00015,\n        \"max\": 1660.0,\n        \"num_unique_values\": 8,\n        \"samples\": [\n          6.604671181325302,\n          1.348575,\n          1660.0\n        ],\n        \"semantic_type\": \"\",\n        \"description\": \"\"\n      }\n    },\n    {\n      \"column\": \"solar_capacity\",\n      \"properties\": {\n        \"dtype\": \"number\",\n        \"std\": 579.6269818824891,\n        \"min\": 1.5e-05,\n        \"max\": 1660.0,\n        \"num_unique_values\": 8,\n        \"samples\": [\n          4.899409520481927,\n          0.4149,\n          1660.0\n        ],\n        \"semantic_type\": \"\",\n        \"description\": \"\"\n      }\n    },\n    {\n      \"column\": \"geothermal_capacity\",\n      \"properties\": {\n        \"dtype\": \"number\",\n        \"std\": 988.1608629921526,\n        \"min\": 1.5e-05,\n        \"max\": 2607.0,\n        \"num_unique_values\": 8,\n        \"samples\": [\n          126.7253715813253,\n          0.8882975,\n          1660.0\n        ],\n        \"semantic_type\": \"\",\n        \"description\": \"\"\n      }\n    },\n    {\n      \"column\": \"fossil_pct_change\",\n      \"properties\": {\n        \"dtype\": \"number\",\n        \"std\": 581.2927203423934,\n        \"min\": -0.8775510204081632,\n        \"max\": 1660.0,\n        \"num_unique_values\": 8,\n        \"samples\": [\n          0.15503701070666193,\n          0.02027530811455658,\n          1660.0\n        ],\n        \"semantic_type\": \"\",\n        \"description\": \"\"\n      }\n    },\n    {\n      \"column\": \"hydro_pct_change\",\n      \"properties\": {\n        \"dtype\": \"number\",\n        \"std\": 586.1113014618192,\n        \"min\": -0.9984756097560976,\n        \"max\": 1660.0,\n        \"num_unique_values\": 8,\n        \"samples\": [\n          0.04455487792327125,\n          0.0,\n          1660.0\n        ],\n        \"semantic_type\": \"\",\n        \"description\": \"\"\n      }\n    },\n    {\n      \"column\": \"wind_pct_change\",\n      \"properties\": {\n        \"dtype\": \"number\",\n        \"std\": 580.5613905392726,\n        \"min\": -0.9984756097560976,\n        \"max\": 1660.0,\n        \"num_unique_values\": 8,\n        \"samples\": [\n          0.5222745700356576,\n          0.03656126491949796,\n          1660.0\n        ],\n        \"semantic_type\": \"\",\n        \"description\": \"\"\n      }\n    },\n    {\n      \"column\": \"solar_pct_change\",\n      \"properties\": {\n        \"dtype\": \"number\",\n        \"std\": 854.1081972809299,\n        \"min\": -0.8095238095238095,\n        \"max\": 2026.3333333333333,\n        \"num_unique_values\": 8,\n        \"samples\": [\n          3.7579549878657703,\n          0.0550160205251895,\n          1660.0\n        ],\n        \"semantic_type\": \"\",\n        \"description\": \"\"\n      }\n    },\n    {\n      \"column\": \"geothermal_pct_change\",\n      \"properties\": {\n        \"dtype\": \"number\",\n        \"std\": 854.1125646083153,\n        \"min\": -0.7218045112781954,\n        \"max\": 2026.3333333333333,\n        \"num_unique_values\": 7,\n        \"samples\": [\n          1660.0,\n          3.7394050603986697,\n          0.20516974295189433\n        ],\n        \"semantic_type\": \"\",\n        \"description\": \"\"\n      }\n    }\n  ]\n}"
            }
          },
          "metadata": {},
          "execution_count": 60
        }
      ]
    },
    {
      "cell_type": "markdown",
      "source": [
        "**Features and Target selection: First models training with Entity included as feature**"
      ],
      "metadata": {
        "id": "TX8Tq_8I3e23"
      }
    },
    {
      "cell_type": "code",
      "source": [
        "#Define Features and Target\n",
        "X= df[['entity', 'hydro_pct_change', 'wind_pct_change', 'solar_pct_change', 'geothermal_pct_change']]\n",
        "y= df['fossil_pct_change']"
      ],
      "metadata": {
        "id": "fsFp79mr3daC"
      },
      "execution_count": 61,
      "outputs": []
    },
    {
      "cell_type": "code",
      "source": [
        "# Split the data into training and testing sets\n",
        "X_train, X_test, y_train, y_test = train_test_split(X, y, test_size=0.2, random_state=42)"
      ],
      "metadata": {
        "id": "LiSlKDFj5RgE"
      },
      "execution_count": 62,
      "outputs": []
    },
    {
      "cell_type": "code",
      "source": [
        "X_train.shape, X_test.shape, y_train.shape, y_test.shape"
      ],
      "metadata": {
        "colab": {
          "base_uri": "https://localhost:8080/"
        },
        "id": "68pi2Ev76A-N",
        "outputId": "8febbb93-3f64-4b7d-c4ea-c75c120fb86f"
      },
      "execution_count": 63,
      "outputs": [
        {
          "output_type": "execute_result",
          "data": {
            "text/plain": [
              "((1328, 5), (332, 5), (1328,), (332,))"
            ]
          },
          "metadata": {},
          "execution_count": 63
        }
      ]
    },
    {
      "cell_type": "code",
      "source": [
        "# Scale numeric features\n",
        "X_train_num = X_train.select_dtypes(include='number')\n",
        "X_test_num = X_test.select_dtypes(include='number')\n",
        "\n",
        "scaler = StandardScaler()\n",
        "X_train_scaled = scaler.fit_transform(X_train_num)\n",
        "X_test_scaled = scaler.transform(X_test_num)"
      ],
      "metadata": {
        "id": "epZMUU8DjPvV"
      },
      "execution_count": 64,
      "outputs": []
    },
    {
      "cell_type": "code",
      "source": [
        "# Convert scaled arrays back into DataFrames\n",
        "\n",
        "X_train_scaled = pd.DataFrame(X_train_scaled, columns=X_train_num.columns)\n",
        "X_test_scaled = pd.DataFrame(X_test_scaled, columns=X_test_num.columns)"
      ],
      "metadata": {
        "id": "mSLL9dP9sOtz"
      },
      "execution_count": 65,
      "outputs": []
    },
    {
      "cell_type": "code",
      "source": [
        "#Encode categorical 'entity' feature\n",
        "X_test_cat = X_test.select_dtypes(exclude='number')\n",
        "X_train_cat = X_train.select_dtypes(exclude='number')\n",
        "\n",
        "# Instanciate One hot encoder\n",
        "ohe = OneHotEncoder(sparse_output = False)\n",
        "\n",
        "# fit on all the X set because some data could miss in the train and appear in the test\n",
        "X_cat = X.select_dtypes(exclude='number')\n",
        "ohe.fit(X_cat)\n",
        "\n",
        " # transform train and test set\n",
        "X_train_cat = pd.DataFrame(ohe.transform(X_train_cat), columns=ohe.get_feature_names_out())\n",
        "X_test_cat = pd.DataFrame(ohe.transform(X_test_cat), columns=ohe.get_feature_names_out())\n",
        "\n"
      ],
      "metadata": {
        "id": "DdUHDjLpsehQ"
      },
      "execution_count": 66,
      "outputs": []
    },
    {
      "cell_type": "code",
      "source": [
        "#concatenate the numeric and non-numeric normalized columns together\n",
        "X_train_preproc = pd.concat((X_train_cat, X_train_scaled), axis=1)\n",
        "X_test_preproc = pd.concat((X_test_cat, X_test_scaled), axis=1)"
      ],
      "metadata": {
        "id": "LHgwrym1tP7v"
      },
      "execution_count": 67,
      "outputs": []
    },
    {
      "cell_type": "markdown",
      "source": [
        "**Instantiate, fit and evaluate four models**"
      ],
      "metadata": {
        "id": "DwmJv4ZNcE10"
      }
    },
    {
      "cell_type": "code",
      "source": [
        "# Function to evaluate models using 4 distinct models: Linear Regression, Random Forest, Gradient Boosting, and XGBoost\n",
        "def evaluate_model(model, X_train, X_test, y_train, y_test):\n",
        "    model.fit(X_train, y_train)\n",
        "    y_pred = model.predict(X_test)\n",
        "    mse = mean_squared_error(y_test, y_pred)\n",
        "    mae = mean_absolute_error(y_test, y_pred)\n",
        "    r2 = r2_score(y_test, y_pred)\n",
        "    return mse, mae, r2\n",
        "\n",
        "# Linear Regression\n",
        "model_linear = LinearRegression()\n",
        "mse_linear, mae_linear, r2_linear = evaluate_model(model_linear, X_train_preproc, X_test_preproc, y_train, y_test)\n",
        "\n",
        "# Random Forest\n",
        "model_rf = RandomForestRegressor(n_estimators=50, random_state=42)\n",
        "mse_rf, mae_rf, r2_rf = evaluate_model(model_rf, X_train_preproc, X_test_preproc, y_train, y_test)\n",
        "\n",
        "# Gradient Boosting\n",
        "model_gb = GradientBoostingRegressor(n_estimators=50, random_state=42)\n",
        "mse_gb, mae_gb, r2_gb = evaluate_model(model_gb, X_train_preproc, X_test_preproc, y_train, y_test)\n",
        "\n",
        "# XGBoost\n",
        "model_xgb = xgb.XGBRegressor(n_estimators=100, learning_rate=0.1, random_state=42)\n",
        "mse_xgb, mae_xgb, r2_xgb = evaluate_model(model_xgb, X_train_preproc, X_test_preproc, y_train, y_test)\n",
        "\n",
        "# Output the results for all 4 models\n",
        "print(f\"Linear Regression - MSE: {mse_linear:.4f}, MAE: {mae_linear:.4f}, R2: {r2_linear:.4f}\")\n",
        "print(f\"Random Forest - MSE: {mse_rf:.4f}, MAE: {mae_rf:.4f}, R2: {r2_rf:.4f}\")\n",
        "print(f\"Gradient Boosting - MSE: {mse_gb:.4f}, MAE: {mae_gb:.4f}, R2: {r2_gb:.4f}\")\n",
        "print(f\"XGBoost - MSE: {mse_xgb:.4f}, MAE: {mae_xgb:.4f}, R2: {r2_xgb:.4f}\")"
      ],
      "metadata": {
        "colab": {
          "base_uri": "https://localhost:8080/"
        },
        "id": "NtMtqNy_fnpO",
        "outputId": "6127347d-8ff2-45fd-ef0f-bc9ba2cb096a"
      },
      "execution_count": 68,
      "outputs": [
        {
          "output_type": "stream",
          "name": "stdout",
          "text": [
            "Linear Regression - MSE: 3.7246, MAE: 0.4680, R2: -7.3041\n",
            "Random Forest - MSE: 0.5411, MAE: 0.1763, R2: -0.2064\n",
            "Gradient Boosting - MSE: 0.3380, MAE: 0.1444, R2: 0.2465\n",
            "XGBoost - MSE: 0.3283, MAE: 0.1226, R2: 0.2681\n"
          ]
        }
      ]
    },
    {
      "cell_type": "markdown",
      "source": [
        "# New Section"
      ],
      "metadata": {
        "id": "XPQC9USX7EZQ"
      }
    },
    {
      "cell_type": "markdown",
      "source": [
        "**FEATURE IMPORTANCE ANALYSIS**"
      ],
      "metadata": {
        "id": "oe7Uo5I5ckux"
      }
    },
    {
      "cell_type": "code",
      "source": [
        " #Fit a RandomForest model to get feature importance\n",
        "rf = RandomForestRegressor(n_estimators=100, random_state=42)\n",
        "rf.fit(X_train_preproc, y_train)\n",
        "\n",
        "# Get feature importances\n",
        "feature_importances = pd.Series(rf.feature_importances_, index=X_train_preproc.columns)\n",
        "feature_importances.sort_values().plot(kind='barh', title=\"Feature Importances\")\n",
        "plt.show()"
      ],
      "metadata": {
        "colab": {
          "base_uri": "https://localhost:8080/",
          "height": 452
        },
        "id": "SguSeR6Z0_Pc",
        "outputId": "93b80260-1955-47e3-92f8-80c8802bce3b",
        "collapsed": true
      },
      "execution_count": 69,
      "outputs": [
        {
          "output_type": "display_data",
          "data": {
            "text/plain": [
              "<Figure size 640x480 with 1 Axes>"
            ],
            "image/png": "[encoded data removed]"
          },
          "metadata": {}
        }
      ]
    },
    {
      "cell_type": "code",
      "source": [
        "# Drop 'entity' related features (all columns with 'entity_') to remove noise\n",
        "X_train_preproc_reduced = X_train_preproc.drop(columns=[col for col in X_train_preproc.columns if 'entity_' in col])\n",
        "\n",
        "# Fit the model again after removing these columns\n",
        "rf = RandomForestRegressor(n_estimators=100, random_state=42)\n",
        "rf.fit(X_train_preproc_reduced, y_train)\n",
        "\n",
        "# Get feature importances\n",
        "feature_importances = pd.Series(rf.feature_importances_, index=X_train_preproc_reduced.columns)\n",
        "\n",
        "# Sort and get the top 10 most important features\n",
        "top_features = feature_importances.sort_values(ascending=False).head(5)\n",
        "\n",
        "# Define color mapping for renewable energy types\n",
        "color_mapping = {\n",
        "    'solar_pct_change': 'yellow',\n",
        "    'wind_pct_change': 'lightblue',\n",
        "    'hydro_pct_change': 'lightgreen',\n",
        "    'biomass_pct_change': 'brown',\n",
        "    'geothermal_pct_change': 'orange',\n",
        "    # Add more mappings if needed\n",
        "}\n",
        "\n",
        "# Map colors based on feature names\n",
        "colors = [color_mapping.get(feature, 'gray') for feature in top_features.index]\n",
        "\n",
        "# Plot the top 10 most important features with colors\n",
        "top_features.plot(kind='barh', color=colors, title=\"Top 5 Feature Importances\")\n",
        "plt.xlabel('Importance')\n",
        "plt.ylabel('Feature')\n",
        "plt.show()        #what can I add to this plot to make the chart border rounded"
      ],
      "metadata": {
        "colab": {
          "base_uri": "https://localhost:8080/",
          "height": 472
        },
        "id": "845DJKak1RVZ",
        "outputId": "76187c89-27cb-487d-d2dc-2c08ae55cfd1"
      },
      "execution_count": 70,
      "outputs": [
        {
          "output_type": "display_data",
          "data": {
            "text/plain": [
              "<Figure size 640x480 with 1 Axes>"
            ],
            "image/png": "[encoded data removed]"
          },
          "metadata": {}
        }
      ]
    },
    {
      "cell_type": "markdown",
      "source": [
        "**Features and Target selection: Second models training without Entity**"
      ],
      "metadata": {
        "id": "dYTSkWUhzd1w"
      }
    },
    {
      "cell_type": "code",
      "source": [
        "# Features and target\n",
        "X = df[['wind_pct_change', 'hydro_pct_change','solar_pct_change', 'geothermal_pct_change']]\n",
        "y = df['fossil_pct_change']\n",
        "\n",
        "# Split the data into training and testing sets\n",
        "X_train, X_test, y_train, y_test = train_test_split(X, y, test_size=0.2, random_state=42)"
      ],
      "metadata": {
        "id": "d5WQHqra3M1l"
      },
      "execution_count": 71,
      "outputs": []
    },
    {
      "cell_type": "code",
      "source": [
        "# Define Function to evaluate 4 distinct models\n",
        "def evaluate_model(model, X_train, X_test, y_train, y_test):\n",
        "    model.fit(X_train, y_train)\n",
        "    y_pred = model.predict(X_test)\n",
        "    mse = mean_squared_error(y_test, y_pred)\n",
        "    mae = mean_absolute_error(y_test, y_pred)\n",
        "    r2 = r2_score(y_test, y_pred)\n",
        "    return mse, mae, r2\n",
        "\n",
        "# Linear Regression\n",
        "model_linear = LinearRegression()\n",
        "mse_linear, mae_linear, r2_linear = evaluate_model(model_linear, X_train, X_test, y_train, y_test)\n",
        "\n",
        "# Random Forest\n",
        "model_rf = RandomForestRegressor(n_estimators=50, random_state=42)\n",
        "mse_rf, mae_rf, r2_rf = evaluate_model(model_rf, X_train, X_test, y_train, y_test)\n",
        "\n",
        "# Gradient Boosting\n",
        "model_gb = GradientBoostingRegressor(n_estimators=50, random_state=42)\n",
        "mse_gb, mae_gb, r2_gb = evaluate_model(model_gb, X_train, X_test, y_train, y_test)\n",
        "\n",
        "# XGBoost\n",
        "model_xgb = XGBRegressor(n_estimators=50, random_state=42)\n",
        "mse_xgb, mae_xgb, r2_xgb = evaluate_model(model_xgb, X_train, X_test, y_train, y_test)\n",
        "\n",
        "# Output the results for all models\n",
        "print(f\"Linear Regression - MSE: {mse_linear}, MAE: {mae_linear}, R2: {r2_linear}\")\n",
        "print(f\"Random Forest - MSE: {mse_rf}, MAE: {mae_rf}, R2: {r2_rf}\")\n",
        "print(f\"Gradient Boosting - MSE: {mse_gb}, MAE: {mae_gb}, R2: {r2_gb}\")\n",
        "print(f\"XGBoost - MSE: {mse_xgb}, MAE: {mae_xgb}, R2: {r2_xgb}\")"
      ],
      "metadata": {
        "colab": {
          "base_uri": "https://localhost:8080/"
        },
        "id": "Qa773zAH_T2l",
        "outputId": "02acd5c7-943b-4b5f-ab6d-b5425d3ffc29"
      },
      "execution_count": 72,
      "outputs": [
        {
          "output_type": "stream",
          "name": "stdout",
          "text": [
            "Linear Regression - MSE: 2.671487704881412, MAE: 0.3796179043317895, R2: -4.956091101137463\n",
            "Random Forest - MSE: 0.39894571730155504, MAE: 0.16982775466082836, R2: 0.11054913997361171\n",
            "Gradient Boosting - MSE: 0.34058378430872327, MAE: 0.1424803208403196, R2: 0.2406672719450319\n",
            "XGBoost - MSE: 0.27229260872128735, MAE: 0.13757918469985794, R2: 0.392922684709733\n"
          ]
        }
      ]
    },
    {
      "cell_type": "code",
      "source": [
        "# Function to plot actual vs predicted values for XGBoost and display R² value\n",
        "def plot_actual_vs_predicted_xgb(y_test, y_pred, r2_value):\n",
        "    plt.figure(figsize=(6, 6))\n",
        "    plt.scatter(y_test, y_pred, alpha=0.5, color='green')  # Green data points\n",
        "    plt.plot([min(y_test), max(y_test)], [min(y_test), max(y_test)], color='brown', linestyle='--', lw=2)  # Yellow regression line\n",
        "    plt.xlabel(\"Actual\")\n",
        "    plt.ylabel(\"Predicted\")\n",
        "    plt.title(\"Actual vs Predicted - XGBoost\")\n",
        "\n",
        "    # Display R² value on the plot\n",
        "    plt.text(0.05, 0.95, f'$R^2$: {r2_value:.3f}', transform=plt.gca().transAxes, fontsize=12,\n",
        "             verticalalignment='top', bbox=dict(facecolor='white', alpha=0.5))\n",
        "\n",
        "    plt.show()\n",
        "\n",
        "# Get predictions for XGBoost model\n",
        "y_pred_xgb = model_xgb.predict(X_test)\n",
        "r2_xgb = r2_score(y_test, y_pred_xgb)  # Calculate R² for XGBoost\n",
        "\n",
        "# Plot for XGBoost model\n",
        "plot_actual_vs_predicted_xgb(y_test, y_pred_xgb, r2_xgb)"
      ],
      "metadata": {
        "colab": {
          "base_uri": "https://localhost:8080/",
          "height": 564
        },
        "id": "pXL6FTn4VMLe",
        "outputId": "cceee2fe-38f4-434c-dc8e-9bb9ebf84a67"
      },
      "execution_count": 73,
      "outputs": [
        {
          "output_type": "display_data",
          "data": {
            "text/plain": [
              "<Figure size 600x600 with 1 Axes>"
            ],
            "image/png": "[encoded data removed]"
          },
          "metadata": {}
        }
      ]
    },
    {
      "cell_type": "code",
      "source": [
        "df.to_csv('pct_changes_rwe_capacity.csv', index=False)"
      ],
      "metadata": {
        "id": "2r1-qGD79167"
      },
      "execution_count": 74,
      "outputs": []
    },
    {
      "cell_type": "markdown",
      "source": [
        "Key Conclusions"
      ],
      "metadata": {
        "id": "RIjtAgrdnSY1"
      }
    },
    {
      "cell_type": "markdown",
      "source": [
        "while our model provides valuable predictions to guide renewable energy investment, broader factors, such as such as economic, political, or technological factors, should be considered for a fuller understanding of fossil fuel reliance reduction."
      ],
      "metadata": {
        "id": "Dt21EsX4nVfF"
      }
    }
  ]
}